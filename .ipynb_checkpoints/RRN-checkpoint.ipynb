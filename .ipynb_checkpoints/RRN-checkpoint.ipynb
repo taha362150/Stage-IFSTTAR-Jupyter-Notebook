{
 "cells": [
  {
   "cell_type": "code",
   "execution_count": 1,
   "id": "18e79052",
   "metadata": {},
   "outputs": [],
   "source": [
    "import pandas as pd"
   ]
  },
  {
   "cell_type": "code",
   "execution_count": 2,
   "id": "c086ed46",
   "metadata": {},
   "outputs": [],
   "source": [
    "RRN=pd.read_excel('RRN_N4.xlsx')\n",
    "###############################################################################  \n",
    "hierar=pd.read_excel('hierar.xlsx')       ## hierar\n",
    "voie=pd.read_excel('voie.xlsx')           ## voie \n",
    "trav=pd.read_excel('trav.xlsx')           ## trav\n",
    "TMJ=pd.read_excel('TMJ.xlsx')             ## TMJ\n",
    "carref=pd.read_excel('carref.xlsx')       ## carrefours\n",
    "###############################################################################\n",
    "DataSet=RRN.copy()\n",
    "for i in range(0,len(DataSet)):\n",
    "    for j in range(0,len(hierar)-1):           \n",
    "        if (hierar['xD'][j] <= DataSet['xD'][i] and hierar['xD'][j+1] >= DataSet['xD'][i]):\n",
    "            DataSet.loc[i, 'Hierrarchie'] = hierar.loc[j, 'Hierrarchie']\n",
    "        else:\n",
    "            j=j+1\n",
    "for i in range(0,len(DataSet)):\n",
    "    for j in range(0,len(voie)-1):           \n",
    "        if (voie['xD'][j] <= DataSet['xD'][i] and voie['xD'][j+1] >= DataSet['xD'][i]):\n",
    "            DataSet.loc[i, 'nBVoiesDroite'] = voie.loc[j, 'nBVoiesDroite']\n",
    "            DataSet.loc[i, 'nBVoiesGauche'] = voie.loc[j, 'nBVoiesGauche']\n",
    "        else:\n",
    "            j=j+1\n",
    "for i in range(0,len(DataSet)):\n",
    "    for j in range(0,len(trav)-1):           \n",
    "        if (trav['xD'][j] <= DataSet['xD'][i] and trav['xD'][j+1] >= DataSet['xD'][i]):\n",
    "            DataSet.loc[i, 'profil'] = trav.loc[j, 'profil']\n",
    "        else:\n",
    "            j=j+1\n",
    "for i in range(0,len(DataSet)):\n",
    "    for j in range(0,len(TMJ)-1):           \n",
    "        if (TMJ['xD'][j] <= DataSet['xD'][i] and TMJ['xD'][j+1] >= DataSet['xD'][i]):\n",
    "            DataSet.loc[i, 'TMJA'] = TMJ.loc[j, 'TMJA']\n",
    "            DataSet.loc[i, 'ratio_PL'] = TMJ.loc[j, 'ratio_PL']\n",
    "        else:\n",
    "            j=j+1\n",
    "for i in range(0,len(DataSet)):\n",
    "    for j in range(0,len(carref)-1):           \n",
    "        if (carref['xD'][j] <= DataSet['xD'][i] and carref['xD'][j+1] >= DataSet['xD'][i]):\n",
    "            DataSet.loc[i, 'typecarrefour'] = carref.loc[j, 'typecarrefour']\n",
    "            DataSet.loc[i, 'typecarrefour_lib'] = carref.loc[j, 'typecarrefour_lib']\n",
    "            DataSet.loc[i, 'routesrencontrees'] = carref.loc[j, 'routesrencontrees']\n",
    "        else:\n",
    "            j=j+1\n"
   ]
  }
 ],
 "metadata": {
  "kernelspec": {
   "display_name": "Python 3",
   "language": "python",
   "name": "python3"
  },
  "language_info": {
   "codemirror_mode": {
    "name": "ipython",
    "version": 3
   },
   "file_extension": ".py",
   "mimetype": "text/x-python",
   "name": "python",
   "nbconvert_exporter": "python",
   "pygments_lexer": "ipython3",
   "version": "3.8.8"
  }
 },
 "nbformat": 4,
 "nbformat_minor": 5
}
