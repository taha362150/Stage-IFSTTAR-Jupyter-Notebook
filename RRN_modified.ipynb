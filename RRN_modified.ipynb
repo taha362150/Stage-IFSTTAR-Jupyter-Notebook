{
 "cells": [
  {
   "cell_type": "code",
   "execution_count": 1,
   "id": "a4c8f749",
   "metadata": {},
   "outputs": [],
   "source": [
    "import pandas as pd"
   ]
  },
  {
   "cell_type": "code",
   "execution_count": 2,
   "id": "7f46fa9b",
   "metadata": {},
   "outputs": [],
   "source": [
    "RRN=pd.read_excel('RRN_DF.xlsx')\n",
    "RRN_copy=RRN.copy()"
   ]
  },
  {
   "cell_type": "code",
   "execution_count": 3,
   "id": "9b7ddd38",
   "metadata": {},
   "outputs": [
    {
     "name": "stderr",
     "output_type": "stream",
     "text": [
      "<ipython-input-3-8647a066bad8>:5: SettingWithCopyWarning: \n",
      "A value is trying to be set on a copy of a slice from a DataFrame\n",
      "\n",
      "See the caveats in the documentation: https://pandas.pydata.org/pandas-docs/stable/user_guide/indexing.html#returning-a-view-versus-a-copy\n",
      "  L['longitudeD'][i]=(RRN_copy['longitudeD'][i+1]+RRN_copy['longitudeD'][i])/2\n",
      "<ipython-input-3-8647a066bad8>:6: SettingWithCopyWarning: \n",
      "A value is trying to be set on a copy of a slice from a DataFrame\n",
      "\n",
      "See the caveats in the documentation: https://pandas.pydata.org/pandas-docs/stable/user_guide/indexing.html#returning-a-view-versus-a-copy\n",
      "  L['latitudeD'][i]=(RRN_copy['latitudeD'][i+1]+RRN_copy['latitudeD'][i])/2\n",
      "<ipython-input-3-8647a066bad8>:7: SettingWithCopyWarning: \n",
      "A value is trying to be set on a copy of a slice from a DataFrame\n",
      "\n",
      "See the caveats in the documentation: https://pandas.pydata.org/pandas-docs/stable/user_guide/indexing.html#returning-a-view-versus-a-copy\n",
      "  L['longitudeF'][i]=(RRN_copy['longitudeF'][i+1]+RRN_copy['longitudeF'][i])/2\n",
      "<ipython-input-3-8647a066bad8>:8: SettingWithCopyWarning: \n",
      "A value is trying to be set on a copy of a slice from a DataFrame\n",
      "\n",
      "See the caveats in the documentation: https://pandas.pydata.org/pandas-docs/stable/user_guide/indexing.html#returning-a-view-versus-a-copy\n",
      "  L['latitudeF'][i]=(RRN_copy['latitudeF'][i+1]+RRN_copy['latitudeF'][i])/2\n",
      "<ipython-input-3-8647a066bad8>:9: SettingWithCopyWarning: \n",
      "A value is trying to be set on a copy of a slice from a DataFrame\n",
      "\n",
      "See the caveats in the documentation: https://pandas.pydata.org/pandas-docs/stable/user_guide/indexing.html#returning-a-view-versus-a-copy\n",
      "  L['xD_Lamb'][i]=(RRN_copy['xD_Lamb'][i+1]+RRN_copy['xD_Lamb'][i])/2\n",
      "<ipython-input-3-8647a066bad8>:10: SettingWithCopyWarning: \n",
      "A value is trying to be set on a copy of a slice from a DataFrame\n",
      "\n",
      "See the caveats in the documentation: https://pandas.pydata.org/pandas-docs/stable/user_guide/indexing.html#returning-a-view-versus-a-copy\n",
      "  L['yD_Lamb'][i]=(RRN_copy['yD_Lamb'][i+1]+RRN_copy['yD_Lamb'][i])/2\n",
      "<ipython-input-3-8647a066bad8>:11: SettingWithCopyWarning: \n",
      "A value is trying to be set on a copy of a slice from a DataFrame\n",
      "\n",
      "See the caveats in the documentation: https://pandas.pydata.org/pandas-docs/stable/user_guide/indexing.html#returning-a-view-versus-a-copy\n",
      "  L['xF_Lamb'][i]=(RRN_copy['xF_Lamb'][i+1]+RRN_copy['xF_Lamb'][i])/2\n",
      "<ipython-input-3-8647a066bad8>:12: SettingWithCopyWarning: \n",
      "A value is trying to be set on a copy of a slice from a DataFrame\n",
      "\n",
      "See the caveats in the documentation: https://pandas.pydata.org/pandas-docs/stable/user_guide/indexing.html#returning-a-view-versus-a-copy\n",
      "  L['yF_Lamb'][i]=(RRN_copy['yF_Lamb'][i+1]+RRN_copy['yF_Lamb'][i])/2\n"
     ]
    },
    {
     "name": "stdout",
     "output_type": "stream",
     "text": [
      "      index  route  longueur  prD  depPrD concessionPrD  absD  cumulD  \\\n",
      "0         0  N0004       200    2      77             N  -699       0   \n",
      "1      1889  N0004       200    2      77             N  -699       0   \n",
      "2         1  N0004       200    2      77             N  -499     200   \n",
      "3      1890  N0004       200    2      77             N  -499     200   \n",
      "4         2  N0004       299    2      77             N  -299     400   \n",
      "...     ...    ...       ...  ...     ...           ...   ...     ...   \n",
      "3772   1886  N0004       200   45      67             N     0  339500   \n",
      "3773   3775  N0004       200   45      67             N     0  339500   \n",
      "3774   1887  N0004       200   45      67             N   200  339700   \n",
      "3775   3776  N0004       200   45      67             N   200  339700   \n",
      "3776   1888  N0004       122   45      67             N   400  339900   \n",
      "\n",
      "      longitudeD  latitudeD  ...  Dept  Hierrarchie  nBVoiesDroite  \\\n",
      "0       2.602920  48.775588  ...    77         GLAT            2.0   \n",
      "1       2.603950  48.775399  ...    77         GLAT            2.0   \n",
      "2       2.604980  48.775210  ...    77         GLAT            2.0   \n",
      "3       2.606330  48.774961  ...    77         GLAT            2.0   \n",
      "4       2.607680  48.774712  ...    77         GLAT            1.0   \n",
      "...          ...        ...  ...   ...          ...            ...   \n",
      "3772    7.734699  48.570949  ...    67          NaN            NaN   \n",
      "3773    7.736056  48.570810  ...    67          NaN            NaN   \n",
      "3774    7.737414  48.570671  ...    67          NaN            NaN   \n",
      "3775    7.738784  48.570610  ...    67          NaN            NaN   \n",
      "3776    7.740154  48.570549  ...    67          NaN            NaN   \n",
      "\n",
      "      nBVoiesGauche    profil TMJA  ratio_PL  typecarrefour  \\\n",
      "0               2.0        4V  NaN       NaN            NaN   \n",
      "1               2.0        4V  NaN       NaN            NaN   \n",
      "2               2.0        4V  NaN       NaN            NaN   \n",
      "3               2.0        4V  NaN       NaN            NaN   \n",
      "4               2.0  3V<10.50  NaN       NaN            NaN   \n",
      "...             ...       ...  ...       ...            ...   \n",
      "3772            NaN       NaN  NaN       NaN            NaN   \n",
      "3773            NaN       NaN  NaN       NaN            NaN   \n",
      "3774            NaN       NaN  NaN       NaN            NaN   \n",
      "3775            NaN       NaN  NaN       NaN            NaN   \n",
      "3776            NaN       NaN  NaN       NaN            NaN   \n",
      "\n",
      "      typecarrefour_lib  routesrencontrees  \n",
      "0                   NaN                NaN  \n",
      "1                   NaN                NaN  \n",
      "2                   NaN                D51  \n",
      "3                   NaN                D51  \n",
      "4                   NaN      BRETELLE N104  \n",
      "...                 ...                ...  \n",
      "3772                NaN                NaN  \n",
      "3773                NaN                NaN  \n",
      "3774                NaN                NaN  \n",
      "3775                NaN                NaN  \n",
      "3776                NaN                NaN  \n",
      "\n",
      "[3777 rows x 39 columns]\n"
     ]
    }
   ],
   "source": [
    "############## insertion des points de repères dans la base RRN ##############\n",
    "L_Df=pd.DataFrame(RRN_copy.iloc[0:0,:], columns=RRN_copy.columns)\n",
    "for i in range(0,len(RRN_copy)-1):\n",
    "    L=pd.DataFrame(RRN_copy.iloc[i:i+1,:], columns=RRN_copy.columns)\n",
    "    L['longitudeD'][i]=(RRN_copy['longitudeD'][i+1]+RRN_copy['longitudeD'][i])/2\n",
    "    L['latitudeD'][i]=(RRN_copy['latitudeD'][i+1]+RRN_copy['latitudeD'][i])/2\n",
    "    L['longitudeF'][i]=(RRN_copy['longitudeF'][i+1]+RRN_copy['longitudeF'][i])/2\n",
    "    L['latitudeF'][i]=(RRN_copy['latitudeF'][i+1]+RRN_copy['latitudeF'][i])/2\n",
    "    L['xD_Lamb'][i]=(RRN_copy['xD_Lamb'][i+1]+RRN_copy['xD_Lamb'][i])/2\n",
    "    L['yD_Lamb'][i]=(RRN_copy['yD_Lamb'][i+1]+RRN_copy['yD_Lamb'][i])/2\n",
    "    L['xF_Lamb'][i]=(RRN_copy['xF_Lamb'][i+1]+RRN_copy['xF_Lamb'][i])/2\n",
    "    L['yF_Lamb'][i]=(RRN_copy['yF_Lamb'][i+1]+RRN_copy['yF_Lamb'][i])/2\n",
    "    Df=pd.concat([L_Df,L], ignore_index=True)\n",
    "    L_Df=Df\n",
    "    i=i+1\n",
    "    \n",
    "RRN_Modified=pd.concat([RRN,Df], ignore_index=True)\n",
    "RRN_Modified=RRN_Modified.sort_values(by='longitudeD',ascending=True)\n",
    "RRN_Modified=RRN_Modified.reset_index()\n",
    "print(RRN_Modified)"
   ]
  },
  {
   "cell_type": "code",
   "execution_count": null,
   "id": "04e7cd26",
   "metadata": {},
   "outputs": [],
   "source": []
  }
 ],
 "metadata": {
  "kernelspec": {
   "display_name": "Python 3",
   "language": "python",
   "name": "python3"
  },
  "language_info": {
   "codemirror_mode": {
    "name": "ipython",
    "version": 3
   },
   "file_extension": ".py",
   "mimetype": "text/x-python",
   "name": "python",
   "nbconvert_exporter": "python",
   "pygments_lexer": "ipython3",
   "version": "3.8.8"
  }
 },
 "nbformat": 4,
 "nbformat_minor": 5
}
