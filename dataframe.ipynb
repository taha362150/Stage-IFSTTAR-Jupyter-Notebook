{
 "cells": [
  {
   "cell_type": "code",
   "execution_count": 1,
   "id": "9c4d8440",
   "metadata": {},
   "outputs": [],
   "source": [
    "import numpy as np\n",
    "import matplotlib.pyplot as plt\n",
    "import pandas as pd\n",
    "import seaborn as sns"
   ]
  },
  {
   "cell_type": "code",
   "execution_count": 2,
   "id": "69cb9765",
   "metadata": {},
   "outputs": [],
   "source": [
    "DataFrame=pd.read_csv('DataFrame(RTE500,RRN).csv')\n",
    "###############################################################################\n",
    "clas=pd.read_csv('classification-rrn.csv')\n",
    "clas=clas[ clas[\"route\"] == \"N0004\"]\n",
    "clas=clas.reset_index()\n",
    "clas=clas.drop(['dateReferentiel','index'],axis=1)\n",
    "#print(clas)\n",
    "###############################################################################\n",
    "hierar=pd.read_csv('hierarchie.csv')\n",
    "hierar=hierar[ hierar[\"route\"] == \"N0004\"]\n",
    "hierar=hierar.reset_index()\n",
    "hierar=hierar.drop(['dateReferentiel','index'],axis=1)\n",
    "#print(hierar)\n",
    "###############################################################################\n",
    "voie=pd.read_csv('nbvoies.csv')\n",
    "voie=voie[ voie[\"route\"] == \"N0004\"]\n",
    "voie=voie.reset_index()\n",
    "voie=voie.drop(['dateReferentiel','index'],axis=1)\n",
    "#print(voie)\n",
    "###############################################################################\n",
    "trav=pd.read_csv('profilstravers.csv')\n",
    "trav=trav[ trav[\"route\"] == \"N0004\"]\n",
    "trav=trav.reset_index()\n",
    "trav=trav.drop(['dateReferentiel','index'],axis=1)\n",
    "#print(trav)\n",
    "###############################################################################\n",
    "TMJ=pd.read_csv('trafic moyen journalier.csv')\n",
    "TMJ=TMJ[ TMJ[\"route\"] == \"N0004\"]\n",
    "TMJ=TMJ.reset_index()\n",
    "TMJ=TMJ.drop(['dateReferentiel','index'],axis=1)\n",
    "#print(TMJ)\n",
    "###############################################################################\n",
    "carrefour=pd.read_excel('carref.xlsx')\n",
    "carrefour=carrefour[ carrefour[\"route\"] == \"N0004\"]\n",
    "carrefour=carrefour.reset_index()\n",
    "carrefour=carrefour.drop(['index'],axis=1)\n",
    "#print(carrefour)"
   ]
  }
 ],
 "metadata": {
  "kernelspec": {
   "display_name": "Python 3",
   "language": "python",
   "name": "python3"
  },
  "language_info": {
   "codemirror_mode": {
    "name": "ipython",
    "version": 3
   },
   "file_extension": ".py",
   "mimetype": "text/x-python",
   "name": "python",
   "nbconvert_exporter": "python",
   "pygments_lexer": "ipython3",
   "version": "3.8.8"
  }
 },
 "nbformat": 4,
 "nbformat_minor": 5
}
