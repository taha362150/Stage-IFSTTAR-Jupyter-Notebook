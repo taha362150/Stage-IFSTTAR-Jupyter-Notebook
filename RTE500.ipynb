{
 "cells": [
  {
   "cell_type": "code",
   "execution_count": 1,
   "id": "fa27f737",
   "metadata": {},
   "outputs": [],
   "source": [
    "import pandas as pd"
   ]
  },
  {
   "cell_type": "code",
   "execution_count": 2,
   "id": "5d1b2984",
   "metadata": {},
   "outputs": [],
   "source": [
    "RRN=pd.read_excel('RRN_Final.xlsx')\n",
    "RTE500=pd.read_excel('RTE500_N4.xlsx')\n",
    "\n",
    "# Remplissage de la base RTE500 par les coordonnées (xD,yD,xF,yF) de la base RRN :\n",
    "    \n",
    "d=pd.DataFrame(columns=RTE500.columns)\n",
    "for i in range(1,len(RRN)):\n",
    "    for j in range(0,len(RTE500)-1):           \n",
    "        if (RTE500['longitudeD'][j]< RRN['longitudeD'][i] and RTE500['longitudeD'][j+1] > RRN['longitudeD'][i]):\n",
    "            d_new_row=pd.DataFrame(RTE500.iloc[j:j+1,:],columns=RTE500.columns)\n",
    "            \n",
    "            d_new_row['longitudeD']=RRN['longitudeD'][i]\n",
    "            d_new_row['latitudeD']=RRN['latitudeD'][i]\n",
    "            d_new_row['longitudeF']=RRN['longitudeF'][i]\n",
    "            d_new_row['latitudeF']=RRN['latitudeF'][i]\n",
    "            d_new_row['xD_Lamb']=RRN['xD_Lamb'][i]\n",
    "            d_new_row['yD_Lamb']=RRN['yD_Lamb'][i]\n",
    "            d_new_row['xF_Lamb']=RRN['xF_Lamb'][i]\n",
    "            d_new_row['yF_Lamb']=RRN['yF_Lamb'][i]\n",
    "            d=pd.concat([d,d_new_row], ignore_index=True)          \n",
    "        else:\n",
    "            j=j+1\n",
    "\n",
    "df_RTE500=pd.concat([d,RTE500], ignore_index=True)\n",
    "df_RTE500=df_RTE500.sort_values(by='longitudeD',ascending=True)\n",
    "df_RTE500=df_RTE500.drop_duplicates(subset=['longitudeD'])\n",
    "df_RTE500=df_RTE500.reset_index()\n",
    "df_RTE500=df_RTE500.drop(['index'], axis=1)\n",
    "#print(df_RTE500)"
   ]
  }
 ],
 "metadata": {
  "kernelspec": {
   "display_name": "Python 3",
   "language": "python",
   "name": "python3"
  },
  "language_info": {
   "codemirror_mode": {
    "name": "ipython",
    "version": 3
   },
   "file_extension": ".py",
   "mimetype": "text/x-python",
   "name": "python",
   "nbconvert_exporter": "python",
   "pygments_lexer": "ipython3",
   "version": "3.8.8"
  }
 },
 "nbformat": 4,
 "nbformat_minor": 5
}
